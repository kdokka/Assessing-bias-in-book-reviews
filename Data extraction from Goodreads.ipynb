{
 "cells": [
  {
   "cell_type": "code",
   "execution_count": 3,
   "metadata": {},
   "outputs": [],
   "source": [
    "#from bs4 import BeautifulSoup"
   ]
  },
  {
   "cell_type": "code",
   "execution_count": 4,
   "metadata": {},
   "outputs": [],
   "source": [
    "#import requests"
   ]
  },
  {
   "cell_type": "code",
   "execution_count": 9,
   "metadata": {},
   "outputs": [],
   "source": [
    "bookname = 'The Queens of Hastinapur'"
   ]
  },
  {
   "cell_type": "code",
   "execution_count": 10,
   "metadata": {},
   "outputs": [],
   "source": [
    "url = 'https://www.goodreads.com/book/show/36178500-the-queens-of-hastinapur?from_search=true&from_srp=true&qid=Cbge8hiqxL&rank=1'"
   ]
  },
  {
   "cell_type": "markdown",
   "metadata": {},
   "source": [
    "##### Developer key obtained from Goodreads"
   ]
  },
  {
   "cell_type": "markdown",
   "metadata": {},
   "source": [
    "Api Key\n",
    "Here is your developer key for using the Goodreads API. This key must be appended to every request using the form variable 'key'. (If you're using our write API, you'll need your secret too.)\n",
    "\n",
    "key: AveOVuFfPYSG4U4QjMapg\n",
    "\n",
    "secret: 8A16WPj742edUcNaZ8lk0SHDqEnHs0UOFsIgnibzw"
   ]
  },
  {
   "cell_type": "code",
   "execution_count": 12,
   "metadata": {},
   "outputs": [
    {
     "name": "stdout",
     "output_type": "stream",
     "text": [
      "Collecting goodreads_api_client\n",
      "  Downloading https://files.pythonhosted.org/packages/1f/03/c7c9e027761d382a92c0cb4acf3bf1650ac2e844fd55851e08ccf950687a/goodreads_api_client-0.1.0.dev4-py2.py3-none-any.whl\n",
      "Collecting requests==2.18.3 (from goodreads_api_client)\n",
      "  Downloading https://files.pythonhosted.org/packages/ba/92/c35ed010e8f96781f08dfa6d9a6a19445a175a9304aceedece77cd48b68f/requests-2.18.3-py2.py3-none-any.whl (88kB)\n",
      "Collecting rauth==0.7.3 (from goodreads_api_client)\n",
      "  Downloading https://files.pythonhosted.org/packages/43/aa/7c8e852275394d65ac5bf3ac9945ecaafe4d083089e09cb0a267efea389a/rauth-0.7.3.tar.gz\n",
      "Collecting xmltodict==0.11.0 (from goodreads_api_client)\n",
      "  Downloading https://files.pythonhosted.org/packages/42/a9/7e99652c6bc619d19d58cdd8c47560730eb5825d43a7e25db2e1d776ceb7/xmltodict-0.11.0-py2.py3-none-any.whl\n",
      "Collecting idna<2.6,>=2.5 (from requests==2.18.3->goodreads_api_client)\n",
      "  Downloading https://files.pythonhosted.org/packages/11/7d/9bbbd7bb35f34b0169542487d2a8859e44306bb2e6a4455d491800a5621f/idna-2.5-py2.py3-none-any.whl (55kB)\n",
      "Collecting urllib3<1.23,>=1.21.1 (from requests==2.18.3->goodreads_api_client)\n",
      "  Downloading https://files.pythonhosted.org/packages/63/cb/6965947c13a94236f6d4b8223e21beb4d576dc72e8130bd7880f600839b8/urllib3-1.22-py2.py3-none-any.whl (132kB)\n",
      "Requirement already satisfied: certifi>=2017.4.17 in c:\\users\\d\\anaconda3\\lib\\site-packages (from requests==2.18.3->goodreads_api_client) (2019.9.11)\n",
      "Requirement already satisfied: chardet<3.1.0,>=3.0.2 in c:\\users\\d\\anaconda3\\lib\\site-packages (from requests==2.18.3->goodreads_api_client) (3.0.4)\n",
      "Building wheels for collected packages: rauth\n",
      "  Building wheel for rauth (setup.py): started\n",
      "  Building wheel for rauth (setup.py): finished with status 'done'\n",
      "  Created wheel for rauth: filename=rauth-0.7.3-cp37-none-any.whl size=16061 sha256=fe4ff6e6030e6265f14e9293c1cce58a0475e617e4c6ccc55b8a17b69335f633\n",
      "  Stored in directory: C:\\Users\\D\\AppData\\Local\\pip\\Cache\\wheels\\7b\\94\\5d\\81afc278dd5da884a0002563dc4b0fe85f9067a5a40f76f858\n",
      "Successfully built rauth\n",
      "Installing collected packages: idna, urllib3, requests, rauth, xmltodict, goodreads-api-client\n",
      "  Found existing installation: idna 2.8\n",
      "    Uninstalling idna-2.8:\n",
      "      Successfully uninstalled idna-2.8\n",
      "  Found existing installation: urllib3 1.24.2\n",
      "    Uninstalling urllib3-1.24.2:\n",
      "      Successfully uninstalled urllib3-1.24.2\n",
      "  Found existing installation: requests 2.22.0\n",
      "    Uninstalling requests-2.22.0:\n",
      "      Successfully uninstalled requests-2.22.0\n",
      "Successfully installed goodreads-api-client-0.1.0.dev4 idna-2.5 rauth-0.7.3 requests-2.18.3 urllib3-1.22 xmltodict-0.11.0\n",
      "Note: you may need to restart the kernel to use updated packages.\n"
     ]
    },
    {
     "name": "stderr",
     "output_type": "stream",
     "text": [
      "ERROR: plotly 3.10.0 requires retrying>=1.3.3, which is not installed.\n"
     ]
    }
   ],
   "source": [
    "pip install goodreads_api_client"
   ]
  },
  {
   "cell_type": "code",
   "execution_count": 13,
   "metadata": {},
   "outputs": [],
   "source": [
    "import goodreads_api_client as gr\n"
   ]
  },
  {
   "cell_type": "code",
   "execution_count": 14,
   "metadata": {},
   "outputs": [],
   "source": [
    "client = gr.Client(developer_key='AveOVuFfPYSG4U4QjMapg')"
   ]
  },
  {
   "cell_type": "code",
   "execution_count": 37,
   "metadata": {},
   "outputs": [],
   "source": [
    "book = client.Book.show_by_isbn('9789352773138')\n"
   ]
  },
  {
   "cell_type": "code",
   "execution_count": 38,
   "metadata": {},
   "outputs": [],
   "source": [
    "review_counts = client.Book.review_counts('9789352773138')\n",
    "# What is this? There are total 61 reviews posted for this book. Why does the list show 7 only?\n"
   ]
  },
  {
   "cell_type": "code",
   "execution_count": 42,
   "metadata": {},
   "outputs": [
    {
     "data": {
      "text/plain": [
       "'59'"
      ]
     },
     "execution_count": 42,
     "metadata": {},
     "output_type": "execute_result"
    }
   ],
   "source": [
    "book['text_reviews_count']\n",
    "# Why is this 59 and above 61?"
   ]
  },
  {
   "cell_type": "code",
   "execution_count": 60,
   "metadata": {},
   "outputs": [
    {
     "data": {
      "text/plain": [
       "odict_keys(['id', 'title', 'isbn', 'isbn13', 'asin', 'kindle_asin', 'marketplace_id', 'country_code', 'image_url', 'small_image_url', 'publication_year', 'publication_month', 'publication_day', 'publisher', 'language_code', 'is_ebook', 'description', 'work', 'average_rating', 'num_pages', 'format', 'edition_information', 'ratings_count', 'text_reviews_count', 'url', 'link', 'authors', 'reviews_widget', 'popular_shelves', 'book_links', 'buy_links', 'series_works', 'similar_books'])"
      ]
     },
     "execution_count": 60,
     "metadata": {},
     "output_type": "execute_result"
    }
   ],
   "source": [
    "book.keys("
   ]
  },
  {
   "cell_type": "code",
   "execution_count": null,
   "metadata": {},
   "outputs": [],
   "source": []
  }
 ],
 "metadata": {
  "kernelspec": {
   "display_name": "Python 3",
   "language": "python",
   "name": "python3"
  },
  "language_info": {
   "codemirror_mode": {
    "name": "ipython",
    "version": 3
   },
   "file_extension": ".py",
   "mimetype": "text/x-python",
   "name": "python",
   "nbconvert_exporter": "python",
   "pygments_lexer": "ipython3",
   "version": "3.7.3"
  }
 },
 "nbformat": 4,
 "nbformat_minor": 2
}
